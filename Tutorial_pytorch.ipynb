{
 "cells": [
  {
   "cell_type": "markdown",
   "metadata": {},
   "source": [
    "### Creating the Dataset \n"
   ]
  },
  {
   "cell_type": "code",
   "execution_count": 1,
   "metadata": {},
   "outputs": [
    {
     "name": "stdout",
     "output_type": "stream",
     "text": [
      "Intel MKL WARNING: Support of Intel(R) Streaming SIMD Extensions 4.2 (Intel(R) SSE4.2) enabled only processors has been deprecated. Intel oneAPI Math Kernel Library 2025.0 will require Intel(R) Advanced Vector Extensions (Intel(R) AVX) instructions.\n",
      "Intel MKL WARNING: Support of Intel(R) Streaming SIMD Extensions 4.2 (Intel(R) SSE4.2) enabled only processors has been deprecated. Intel oneAPI Math Kernel Library 2025.0 will require Intel(R) Advanced Vector Extensions (Intel(R) AVX) instructions.\n"
     ]
    },
    {
     "name": "stderr",
     "output_type": "stream",
     "text": [
      "Clipping input data to the valid range for imshow with RGB data ([0..1] for floats or [0..255] for integers).\n"
     ]
    },
    {
     "data": {
      "text/plain": [
       "<matplotlib.image.AxesImage at 0x11910acc0>"
      ]
     },
     "execution_count": 1,
     "metadata": {},
     "output_type": "execute_result"
    },
    {
     "data": {
      "image/png": "[encoded data removed]",
      "text/plain": [
       "<Figure size 640x480 with 1 Axes>"
      ]
     },
     "metadata": {},
     "output_type": "display_data"
    }
   ],
   "source": [
    "import numpy as np\n",
    "import matplotlib.pyplot as plt\n",
    "import cv2\n",
    "\n",
    "# important tou use float32 for the images\n",
    "\n",
    "# Function to generate an image of digit 0 with random size and position\n",
    "def generate_zero_image(image_size):\n",
    "    image = np.zeros((image_size, image_size, 3), dtype=np.float32)\n",
    "    size = np.random.randint(image_size // 2, image_size)  # Random size for digit 0\n",
    "    x_pos = np.random.randint(0, image_size - size)\n",
    "    y_pos = np.random.randint(0, image_size - size)\n",
    "    color = np.random.randint(0, 256, size=3)  # Random color\n",
    "    cv2.circle(image, (x_pos + size // 2, y_pos + size // 2), size // 4, color.tolist(), thickness=-1)\n",
    "    return image\n",
    "\n",
    "# Function to generate an image of digit 1 with random size and position\n",
    "def generate_one_image(image_size):\n",
    "    image = np.zeros((image_size, image_size, 3), dtype=np.float32)\n",
    "    size = np.random.randint(image_size // 4, image_size // 2)  # Random size for digit 1\n",
    "    x_pos = np.random.randint(0, image_size - size)\n",
    "    y_pos = np.random.randint(0, image_size - size)\n",
    "    color = np.random.randint(0, 256, size=3)  # Random color\n",
    "    cv2.line(image, (x_pos + size // 2, y_pos), (x_pos + size // 2, y_pos + size), color.tolist(), thickness=size // 4)\n",
    "    return image\n",
    "\n",
    "# Generate dataset\n",
    "num_samples = 1000  # Number of samples\n",
    "image_size = 28     # Image size\n",
    "\n",
    "X = []  # List to store images\n",
    "y = []  # List to store labels\n",
    "\n",
    "# Generate samples of digit 0\n",
    "for _ in range(num_samples // 2):\n",
    "    image = generate_zero_image(image_size)\n",
    "    X.append(np.transpose(image))\n",
    "    y.append([0])\n",
    "\n",
    "# Generate samples of digit 1\n",
    "for _ in range(num_samples // 2):\n",
    "    image = generate_one_image(image_size)\n",
    "    X.append(np.transpose(image))\n",
    "    y.append([1])\n",
    "\n",
    "# Convert lists to NumPy arrays\n",
    "X = np.array(X)\n",
    "y = np.array(y)\n",
    "\n",
    "# Shuffle the dataset\n",
    "indices = np.arange(len(X))\n",
    "np.random.shuffle(indices)\n",
    "\n",
    "# X is a numpy array of size (Number_of_samplesx28x28x3)\n",
    "X = X[indices]\n",
    "y = y[indices]\n",
    "\n",
    "plt.imshow(np.transpose(X[20]))\n"
   ]
  },
  {
   "cell_type": "code",
   "execution_count": 23,
   "metadata": {},
   "outputs": [],
   "source": [
    "# train test split of the dataset with sklearn\n",
    "\n",
    "from sklearn.model_selection import train_test_split\n",
    "\n",
    "X_train, X_test, y_train, y_test = train_test_split(X, y, test_size=0.2, random_state=42)"
   ]
  },
  {
   "cell_type": "markdown",
   "metadata": {},
   "source": [
    "### Creating the Pytorch Dataset "
   ]
  },
  {
   "cell_type": "code",
   "execution_count": 24,
   "metadata": {},
   "outputs": [],
   "source": [
    "import torch\n",
    "from torch.utils.data import Dataset"
   ]
  },
  {
   "cell_type": "code",
   "execution_count": 57,
   "metadata": {},
   "outputs": [],
   "source": [
    "# this block of code is used to create a custom dataset class\n",
    "\n",
    "class CustomDataset(Dataset):\n",
    "    def __init__(self, X, y, transform=None):\n",
    "        self.X = X\n",
    "        self.y = y\n",
    "        self.transform = transform\n",
    "\n",
    "    def __len__(self):\n",
    "        return len(self.X)\n",
    "\n",
    "    def __getitem__(self, idx):\n",
    "\n",
    "        if self.transform:\n",
    "\n",
    "            X_transform = self.transform(X[idx])\n",
    "            y_transform = self.transform(y[idx])\n",
    "\n",
    "        return X_transform, y_transform"
   ]
  },
  {
   "cell_type": "code",
   "execution_count": 58,
   "metadata": {},
   "outputs": [],
   "source": [
    "import torchvision.transforms as transforms\n",
    "\n",
    "from torch.utils.data import DataLoader"
   ]
  },
  {
   "cell_type": "code",
   "execution_count": 74,
   "metadata": {},
   "outputs": [],
   "source": [
    "transform = torch.from_numpy\n",
    "\n",
    "# to_tensor doesn't work to convert numpy images into torch tensors\n",
    "\n",
    "batch_size = 4\n",
    "\n",
    "train_dataset = CustomDataset(X_train, y_train,\n",
    "                              transform=transform)\n",
    "\n",
    "test_dataset = CustomDataset(X_test, y_test,\n",
    "                             transform=transform)\n",
    "\n",
    "train_loader = DataLoader(train_dataset,\n",
    "                          batch_size=batch_size)\n",
    "\n",
    "test_loader = DataLoader(test_dataset,\n",
    "                         batch_size=batch_size)"
   ]
  },
  {
   "cell_type": "code",
   "execution_count": 75,
   "metadata": {},
   "outputs": [
    {
     "data": {
      "text/plain": [
       "800"
      ]
     },
     "execution_count": 75,
     "metadata": {},
     "output_type": "execute_result"
    }
   ],
   "source": [
    "len(train_dataset)"
   ]
  },
  {
   "cell_type": "markdown",
   "metadata": {},
   "source": [
    "### Creating the CNN"
   ]
  },
  {
   "cell_type": "code",
   "execution_count": 60,
   "metadata": {},
   "outputs": [],
   "source": [
    "import torch.nn as nn"
   ]
  },
  {
   "cell_type": "code",
   "execution_count": 61,
   "metadata": {},
   "outputs": [],
   "source": [
    "class Net(nn.Module):\n",
    "    def __init__(self):\n",
    "        super().__init__()\n",
    "        self.network = nn.Sequential(\n",
    "\n",
    "            nn.Conv2d(3, 6, 5),\n",
    "            nn.ReLU(),\n",
    "            nn.MaxPool2d(2, 2),\n",
    "\n",
    "            nn.Conv2d(6, 16, 5),\n",
    "            nn.ReLU(),\n",
    "            nn.MaxPool2d(2, 2),\n",
    "\n",
    "            nn.Flatten(),\n",
    "            nn.Linear(256, 120),\n",
    "            nn.ReLU(),\n",
    "            nn.Linear(120, 84),\n",
    "            nn.ReLU(),\n",
    "            nn.Linear(84, 10),\n",
    "            nn.ReLU(),\n",
    "            nn.Linear(10, 1),\n",
    "            nn.Sigmoid()\n",
    "        )\n",
    "\n",
    "    def forward(self, x):\n",
    "        x = self.network(x)\n",
    "        return x\n"
   ]
  },
  {
   "cell_type": "code",
   "execution_count": 62,
   "metadata": {},
   "outputs": [],
   "source": [
    "net = Net()"
   ]
  },
  {
   "cell_type": "code",
   "execution_count": 96,
   "metadata": {},
   "outputs": [],
   "source": [
    "# construction of the solver CNN with a sklearn like API\n",
    "\n",
    "class CNN:\n",
    "    def __init__(self, model, criterion, optimizer):\n",
    "        self.model = model\n",
    "        self.criterion = criterion\n",
    "        self.optimizer = optimizer\n",
    "\n",
    "    def fit(self, train_loader, epochs=2):\n",
    "        self.model.train()\n",
    "        for epoch in range(epochs):\n",
    "            running_loss = 0.0\n",
    "            compteur = 0\n",
    "            l = len(train_loader)\n",
    "            for X, y in train_loader:\n",
    "\n",
    "                self.optimizer.zero_grad()\n",
    "                outputs = self.model(X)\n",
    "\n",
    "                outputs = outputs.to(torch.float32)\n",
    "                y = y.to(torch.float32)\n",
    "\n",
    "                loss = self.criterion(outputs, y)\n",
    "                loss.backward()\n",
    "                self.optimizer.step()\n",
    "                running_loss += loss.item()\n",
    "                if compteur % l  == l-1:\n",
    "                    print(f'[{epoch + 1}, {compteur + 1:5d}]',\n",
    "                          f'train_loss: {running_loss /l :.3f}')\n",
    "                compteur+=1\n",
    "\n",
    "        print('Finished Training')\n",
    "\n",
    "    def predict(self, test_loader):\n",
    "        self.model.eval()\n",
    "        predictions = []\n",
    "        with torch.no_grad():\n",
    "            for X, _ in test_loader:\n",
    "                inputs = X\n",
    "                outputs = self.model(inputs)\n",
    "                binary_predictions = (outputs >= 0.5).float()\n",
    "                predictions.extend(binary_predictions.cpu().numpy().tolist())\n",
    "\n",
    "        return predictions\n",
    "\n",
    "    # return by default the accuracy score of the model\n",
    "\n",
    "    def score(self, test_loader):\n",
    "        predictions = self.predict(test_loader)\n",
    "        y_true = [y for _, y in test_loader]\n",
    "        y_true = torch.cat(y_true, dim=0).cpu().numpy()\n",
    "        return np.mean(y_true == predictions)\n"
   ]
  },
  {
   "cell_type": "code",
   "execution_count": 95,
   "metadata": {},
   "outputs": [],
   "source": [
    "import torch.optim as optim"
   ]
  },
  {
   "cell_type": "code",
   "execution_count": 97,
   "metadata": {},
   "outputs": [],
   "source": [
    "# binary cross entropy loss\n",
    "criterion = nn.BCELoss()\n",
    "optimizer = optim.SGD(net.parameters(), lr=0.0001, momentum=0.5)\n",
    "\n",
    "clf = CNN(model=net,\n",
    "          criterion=criterion,\n",
    "          optimizer=optimizer)\n"
   ]
  },
  {
   "cell_type": "code",
   "execution_count": 102,
   "metadata": {},
   "outputs": [
    {
     "name": "stdout",
     "output_type": "stream",
     "text": [
      "[1,   200] train_loss: 0.027\n",
      "Finished Training\n"
     ]
    }
   ],
   "source": [
    "clf.fit(train_loader, epochs=1)\n"
   ]
  },
  {
   "cell_type": "code",
   "execution_count": 103,
   "metadata": {},
   "outputs": [
    {
     "data": {
      "text/plain": [
       "[[1.0],\n",
       " [0.0],\n",
       " [1.0],\n",
       " [1.0],\n",
       " [0.0],\n",
       " [0.0],\n",
       " [0.0],\n",
       " [1.0],\n",
       " [1.0],\n",
       " [1.0],\n",
       " [0.0],\n",
       " [0.0],\n",
       " [1.0],\n",
       " [1.0],\n",
       " [0.0],\n",
       " [1.0],\n",
       " [1.0],\n",
       " [0.0],\n",
       " [1.0],\n",
       " [0.0],\n",
       " [0.0],\n",
       " [0.0],\n",
       " [0.0],\n",
       " [1.0],\n",
       " [1.0],\n",
       " [1.0],\n",
       " [0.0],\n",
       " [0.0],\n",
       " [0.0],\n",
       " [1.0],\n",
       " [0.0],\n",
       " [0.0],\n",
       " [0.0],\n",
       " [0.0],\n",
       " [0.0],\n",
       " [1.0],\n",
       " [0.0],\n",
       " [0.0],\n",
       " [1.0],\n",
       " [0.0],\n",
       " [0.0],\n",
       " [1.0],\n",
       " [0.0],\n",
       " [1.0],\n",
       " [0.0],\n",
       " [0.0],\n",
       " [1.0],\n",
       " [1.0],\n",
       " [0.0],\n",
       " [1.0],\n",
       " [1.0],\n",
       " [0.0],\n",
       " [1.0],\n",
       " [0.0],\n",
       " [0.0],\n",
       " [0.0],\n",
       " [1.0],\n",
       " [0.0],\n",
       " [1.0],\n",
       " [0.0],\n",
       " [0.0],\n",
       " [1.0],\n",
       " [0.0],\n",
       " [0.0],\n",
       " [0.0],\n",
       " [1.0],\n",
       " [0.0],\n",
       " [1.0],\n",
       " [0.0],\n",
       " [0.0],\n",
       " [0.0],\n",
       " [0.0],\n",
       " [0.0],\n",
       " [1.0],\n",
       " [0.0],\n",
       " [0.0],\n",
       " [1.0],\n",
       " [0.0],\n",
       " [0.0],\n",
       " [0.0],\n",
       " [1.0],\n",
       " [0.0],\n",
       " [0.0],\n",
       " [0.0],\n",
       " [1.0],\n",
       " [1.0],\n",
       " [0.0],\n",
       " [0.0],\n",
       " [1.0],\n",
       " [1.0],\n",
       " [1.0],\n",
       " [0.0],\n",
       " [1.0],\n",
       " [1.0],\n",
       " [0.0],\n",
       " [1.0],\n",
       " [1.0],\n",
       " [1.0],\n",
       " [1.0],\n",
       " [1.0],\n",
       " [1.0],\n",
       " [1.0],\n",
       " [1.0],\n",
       " [0.0],\n",
       " [1.0],\n",
       " [1.0],\n",
       " [1.0],\n",
       " [1.0],\n",
       " [1.0],\n",
       " [1.0],\n",
       " [0.0],\n",
       " [1.0],\n",
       " [0.0],\n",
       " [1.0],\n",
       " [1.0],\n",
       " [1.0],\n",
       " [1.0],\n",
       " [0.0],\n",
       " [0.0],\n",
       " [1.0],\n",
       " [0.0],\n",
       " [0.0],\n",
       " [1.0],\n",
       " [0.0],\n",
       " [1.0],\n",
       " [1.0],\n",
       " [1.0],\n",
       " [0.0],\n",
       " [0.0],\n",
       " [0.0],\n",
       " [0.0],\n",
       " [1.0],\n",
       " [1.0],\n",
       " [0.0],\n",
       " [0.0],\n",
       " [1.0],\n",
       " [0.0],\n",
       " [1.0],\n",
       " [1.0],\n",
       " [1.0],\n",
       " [1.0],\n",
       " [0.0],\n",
       " [1.0],\n",
       " [0.0],\n",
       " [0.0],\n",
       " [1.0],\n",
       " [0.0],\n",
       " [0.0],\n",
       " [0.0],\n",
       " [0.0],\n",
       " [1.0],\n",
       " [1.0],\n",
       " [1.0],\n",
       " [0.0],\n",
       " [0.0],\n",
       " [0.0],\n",
       " [1.0],\n",
       " [0.0],\n",
       " [0.0],\n",
       " [0.0],\n",
       " [0.0],\n",
       " [0.0],\n",
       " [1.0],\n",
       " [1.0],\n",
       " [1.0],\n",
       " [0.0],\n",
       " [0.0],\n",
       " [0.0],\n",
       " [1.0],\n",
       " [0.0],\n",
       " [1.0],\n",
       " [0.0],\n",
       " [0.0],\n",
       " [0.0],\n",
       " [0.0],\n",
       " [0.0],\n",
       " [0.0],\n",
       " [1.0],\n",
       " [0.0],\n",
       " [0.0],\n",
       " [1.0],\n",
       " [0.0],\n",
       " [0.0],\n",
       " [1.0],\n",
       " [1.0],\n",
       " [1.0],\n",
       " [1.0],\n",
       " [1.0],\n",
       " [0.0],\n",
       " [0.0],\n",
       " [1.0],\n",
       " [0.0],\n",
       " [1.0],\n",
       " [0.0],\n",
       " [0.0],\n",
       " [1.0],\n",
       " [0.0],\n",
       " [0.0],\n",
       " [0.0],\n",
       " [0.0]]"
      ]
     },
     "execution_count": 103,
     "metadata": {},
     "output_type": "execute_result"
    }
   ],
   "source": [
    "clf.predict(test_loader)"
   ]
  },
  {
   "cell_type": "code",
   "execution_count": 104,
   "metadata": {},
   "outputs": [
    {
     "data": {
      "text/plain": [
       "1.0"
      ]
     },
     "execution_count": 104,
     "metadata": {},
     "output_type": "execute_result"
    }
   ],
   "source": [
    "clf.score(test_loader)"
   ]
  }
 ],
 "metadata": {
  "kernelspec": {
   "display_name": "DLMI",
   "language": "python",
   "name": "python3"
  },
  "language_info": {
   "codemirror_mode": {
    "name": "ipython",
    "version": 3
   },
   "file_extension": ".py",
   "mimetype": "text/x-python",
   "name": "python",
   "nbconvert_exporter": "python",
   "pygments_lexer": "ipython3",
   "version": "3.12.2"
  }
 },
 "nbformat": 4,
 "nbformat_minor": 2
}
