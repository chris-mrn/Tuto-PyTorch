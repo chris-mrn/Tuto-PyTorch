{
 "cells": [
  {
   "cell_type": "markdown",
   "metadata": {},
   "source": [
    "## A simple Pytorch Tutorial for binary classification."
   ]
  },
  {
   "cell_type": "markdown",
   "metadata": {},
   "source": [
    "\n",
    "In this tutorial, we will explore how to build a custom Pytorch CNN with a sklearn-like API.  \n",
    "\n",
    "Let's get started!\n"
   ]
  },
  {
   "cell_type": "markdown",
   "metadata": {},
   "source": [
    "### Creating the Dataset \n"
   ]
  },
  {
   "cell_type": "markdown",
   "metadata": {},
   "source": [
    "\n",
    "We will create a dataset comprising images of the digits 0 and 1. These images will serve as training data for a basic neural network tasked with classifying these digits.\n",
    "<br>\n",
    "\n",
    "Specifically, X will represent a numpy array with dimensions (Number_of_images x 28 x 28 x 3), while y will be a numpy array sized (Number_of_images x 1).\n"
   ]
  },
  {
   "cell_type": "code",
   "execution_count": 38,
   "metadata": {},
   "outputs": [
    {
     "name": "stderr",
     "output_type": "stream",
     "text": [
      "Clipping input data to the valid range for imshow with RGB data ([0..1] for floats or [0..255] for integers).\n",
      "Clipping input data to the valid range for imshow with RGB data ([0..1] for floats or [0..255] for integers).\n",
      "Clipping input data to the valid range for imshow with RGB data ([0..1] for floats or [0..255] for integers).\n",
      "Clipping input data to the valid range for imshow with RGB data ([0..1] for floats or [0..255] for integers).\n"
     ]
    },
    {
     "data": {
      "image/png": "[encoded data removed]",
      "text/plain": [
       "<Figure size 2000x2000 with 4 Axes>"
      ]
     },
     "metadata": {},
     "output_type": "display_data"
    }
   ],
   "source": [
    "import numpy as np\n",
    "import matplotlib.pyplot as plt\n",
    "import cv2\n",
    "\n",
    "\n",
    "# Function to generate an image of digit 0 with random size and position\n",
    "def generate_zero_image(image_size):\n",
    "    image = np.zeros((image_size, image_size, 3), dtype=np.float32)\n",
    "    size = np.random.randint(image_size // 2, image_size)  # Random size for digit 0\n",
    "    x_pos = np.random.randint(0, image_size - size)\n",
    "    y_pos = np.random.randint(0, image_size - size)\n",
    "    color = np.random.randint(0, 256, size=3)  # Random color\n",
    "    cv2.circle(image, (x_pos + size // 2, y_pos + size // 2), size // 4, color.tolist(), thickness=-1)\n",
    "    return image\n",
    "\n",
    "# Function to generate an image of digit 1 with random size and position\n",
    "def generate_one_image(image_size):\n",
    "    image = np.zeros((image_size, image_size, 3), dtype=np.float32)\n",
    "    size = np.random.randint(image_size // 4, image_size // 2)  # Random size for digit 1\n",
    "    x_pos = np.random.randint(0, image_size - size)\n",
    "    y_pos = np.random.randint(0, image_size - size)\n",
    "    color = np.random.randint(0, 256, size=3)  # Random color\n",
    "    cv2.line(image, (x_pos + size // 2, y_pos), (x_pos + size // 2, y_pos + size), color.tolist(), thickness=size // 4)\n",
    "    return image\n",
    "\n",
    "# Generate dataset\n",
    "num_samples = 1000  # Number of samples\n",
    "image_size = 28     # Image size\n",
    "\n",
    "X = []  # List to store images\n",
    "y = []  # List to store labels\n",
    "\n",
    "# Generate samples of digit 0\n",
    "for _ in range(num_samples // 2):\n",
    "    image = generate_zero_image(image_size)\n",
    "    X.append(np.transpose(image))\n",
    "    y.append([0])\n",
    "\n",
    "# Generate samples of digit 1\n",
    "for _ in range(num_samples // 2):\n",
    "    image = generate_one_image(image_size)\n",
    "    X.append(np.transpose(image))\n",
    "    y.append([1])\n",
    "\n",
    "# Convert lists to NumPy arrays\n",
    "X = np.array(X)\n",
    "y = np.array(y)\n",
    "\n",
    "# Shuffle the dataset\n",
    "indices = np.arange(len(X))\n",
    "np.random.shuffle(indices)\n",
    "\n",
    "# X is a numpy array of size (Number_of_samplesx28x28x3)\n",
    "X = X[indices]\n",
    "y = y[indices]\n",
    "\n",
    "\n",
    "# plot the first 4 images of the dataset\n",
    "fig, ax = plt.subplots(1, 4, figsize=(20, 20))\n",
    "for i in range(4):\n",
    "    ax[i].imshow(np.transpose(X[i]))\n",
    "    ax[i].set_title(f\"Label: {y[i][0]}\")\n",
    "    ax[i].axis(\"off\")\n",
    "plt.show()\n"
   ]
  },
  {
   "cell_type": "code",
   "execution_count": 34,
   "metadata": {},
   "outputs": [],
   "source": [
    "# Split the dataset into training and testing sets\n",
    "\n",
    "from sklearn.model_selection import train_test_split\n",
    "\n",
    "X_train, X_test, y_train, y_test = train_test_split(X, y, test_size=0.2, random_state=42)"
   ]
  },
  {
   "cell_type": "markdown",
   "metadata": {},
   "source": [
    "### Creating the Pytorch Dataset "
   ]
  },
  {
   "cell_type": "markdown",
   "metadata": {},
   "source": [
    "Now we're going to dive into creating a Dataset compatible with PyTorch. This step is crucial as it allows us to integrate our data, represented by X and y, into the PyTorch ecosystem. We will be able to utilize powerful PyTorch tools such as data loaders, which are essential for efficiently handling and processing our dataset during training."
   ]
  },
  {
   "cell_type": "code",
   "execution_count": 3,
   "metadata": {},
   "outputs": [],
   "source": [
    "import torch\n",
    "from torch.utils.data import Dataset"
   ]
  },
  {
   "cell_type": "code",
   "execution_count": 4,
   "metadata": {},
   "outputs": [],
   "source": [
    "# this block of code is used to create a custom dataset class compatible with pytorch\n",
    "\n",
    "class CustomDataset(Dataset):\n",
    "    def __init__(self, X, y, transform=None):\n",
    "        self.X = X\n",
    "        self.y = y\n",
    "        self.transform = transform\n",
    "\n",
    "    def __len__(self):\n",
    "        return len(self.X)\n",
    "\n",
    "    def __getitem__(self, idx):\n",
    "\n",
    "        if self.transform:\n",
    "            X_transform = self.transform(X[idx])\n",
    "            y_transform = self.transform(y[idx])\n",
    "\n",
    "        return X_transform, y_transform"
   ]
  },
  {
   "cell_type": "code",
   "execution_count": 35,
   "metadata": {},
   "outputs": [],
   "source": [
    "import torchvision.transforms as transforms\n",
    "\n",
    "from torch.utils.data import DataLoader"
   ]
  },
  {
   "cell_type": "code",
   "execution_count": 36,
   "metadata": {},
   "outputs": [],
   "source": [
    "# to_tensor doesn't work to convert numpy images into torch tensors\n",
    "\n",
    "transform = torch.from_numpy\n",
    "\n",
    "batch_size = 4\n",
    "\n",
    "train_dataset = CustomDataset(X_train, y_train,\n",
    "                              transform=transform)\n",
    "\n",
    "test_dataset = CustomDataset(X_test, y_test,\n",
    "                             transform=transform)\n",
    "\n",
    "train_loader = DataLoader(train_dataset,\n",
    "                          batch_size=batch_size)\n",
    "\n",
    "test_loader = DataLoader(test_dataset,\n",
    "                         batch_size=batch_size)"
   ]
  },
  {
   "cell_type": "markdown",
   "metadata": {},
   "source": [
    "### Creating the CNN"
   ]
  },
  {
   "cell_type": "code",
   "execution_count": 8,
   "metadata": {},
   "outputs": [],
   "source": [
    "import torch.nn as nn"
   ]
  },
  {
   "cell_type": "code",
   "execution_count": 9,
   "metadata": {},
   "outputs": [],
   "source": [
    "# Define the neural network architecture\n",
    "\n",
    "class Net(nn.Module):\n",
    "    def __init__(self):\n",
    "        super().__init__()\n",
    "        self.network = nn.Sequential(\n",
    "\n",
    "            nn.Conv2d(3, 6, 5),\n",
    "            nn.ReLU(),\n",
    "            nn.MaxPool2d(2, 2),\n",
    "\n",
    "            nn.Conv2d(6, 16, 5),\n",
    "            nn.ReLU(),\n",
    "            nn.MaxPool2d(2, 2),\n",
    "\n",
    "            nn.Flatten(),\n",
    "            nn.Linear(256, 120),\n",
    "            nn.ReLU(),\n",
    "            nn.Linear(120, 84),\n",
    "            nn.ReLU(),\n",
    "            nn.Linear(84, 10),\n",
    "            nn.ReLU(),\n",
    "            nn.Linear(10, 1),\n",
    "            nn.Sigmoid()\n",
    "        )\n",
    "\n",
    "    def forward(self, x):\n",
    "        x = self.network(x)\n",
    "        return x\n"
   ]
  },
  {
   "cell_type": "code",
   "execution_count": 37,
   "metadata": {},
   "outputs": [],
   "source": [
    "net = Net()"
   ]
  },
  {
   "cell_type": "code",
   "execution_count": 40,
   "metadata": {},
   "outputs": [],
   "source": [
    "# construction of the CNN solver with a sklearn like API\n",
    "\n",
    "class CNN:\n",
    "    def __init__(self, model, criterion, optimizer):\n",
    "        self.model = model\n",
    "        self.criterion = criterion\n",
    "        self.optimizer = optimizer\n",
    "\n",
    "    def fit(self, train_loader, n_epochs=2):\n",
    "        self.model.train()\n",
    "        for epoch in range(n_epochs):\n",
    "            running_loss = 0.0\n",
    "            compteur = 0\n",
    "            l = len(train_loader)\n",
    "            for X, y in train_loader:\n",
    "\n",
    "                self.optimizer.zero_grad()\n",
    "                outputs = self.model(X)\n",
    "\n",
    "                # convert the outputs and the labels to float32 to pass it to the loss\n",
    "                outputs = outputs.to(torch.float32)\n",
    "                y = y.to(torch.float32)\n",
    "\n",
    "                loss = self.criterion(outputs, y)\n",
    "                loss.backward()\n",
    "                self.optimizer.step()\n",
    "                running_loss += loss.item()\n",
    "                if compteur % l  == l-1:\n",
    "                    print(f'[{epoch + 1}, {compteur + 1:5d}]',\n",
    "                          f'train_loss: {running_loss /l :.3f}')\n",
    "                compteur+=1\n",
    "\n",
    "        print('Finished Training')\n",
    "\n",
    "    def predict(self, test_loader):\n",
    "        self.model.eval()\n",
    "        predictions = []\n",
    "        with torch.no_grad():\n",
    "            for X, _ in test_loader:\n",
    "                inputs = X\n",
    "                outputs = self.model(inputs)\n",
    "                binary_predictions = (outputs >= 0.5).float()\n",
    "                predictions.extend(binary_predictions.cpu().numpy().tolist())\n",
    "\n",
    "        return predictions\n",
    "\n",
    "    # return by default the accuracy score of the model\n",
    "\n",
    "    def score(self, test_loader):\n",
    "        predictions = self.predict(test_loader)\n",
    "        y_true = [y for _, y in test_loader]\n",
    "        y_true = torch.cat(y_true, dim=0).cpu().numpy()\n",
    "        return np.mean(y_true == predictions)\n"
   ]
  },
  {
   "cell_type": "code",
   "execution_count": 12,
   "metadata": {},
   "outputs": [],
   "source": [
    "import torch.optim as optim"
   ]
  },
  {
   "cell_type": "code",
   "execution_count": 39,
   "metadata": {},
   "outputs": [],
   "source": [
    "# For binary classification, it is a common pratice to use the Binary Cross Entropy loss\n",
    "\n",
    "criterion = nn.BCELoss()\n",
    "optimizer = optim.SGD(net.parameters(), lr=0.0001, momentum=0.5)\n",
    "\n",
    "clf = CNN(model=net,\n",
    "          criterion=criterion,\n",
    "          optimizer=optimizer)\n"
   ]
  },
  {
   "cell_type": "code",
   "execution_count": 20,
   "metadata": {},
   "outputs": [
    {
     "name": "stdout",
     "output_type": "stream",
     "text": [
      "[1,   200] train_loss: 0.196\n",
      "[2,   200] train_loss: 0.174\n",
      "[3,   200] train_loss: 0.155\n",
      "[4,   200] train_loss: 0.138\n",
      "[5,   200] train_loss: 0.124\n",
      "[6,   200] train_loss: 0.110\n",
      "[7,   200] train_loss: 0.099\n",
      "[8,   200] train_loss: 0.089\n",
      "[9,   200] train_loss: 0.081\n",
      "[10,   200] train_loss: 0.073\n",
      "[11,   200] train_loss: 0.066\n",
      "[12,   200] train_loss: 0.060\n",
      "[13,   200] train_loss: 0.055\n",
      "[14,   200] train_loss: 0.051\n",
      "[15,   200] train_loss: 0.047\n",
      "[16,   200] train_loss: 0.043\n",
      "[17,   200] train_loss: 0.040\n",
      "[18,   200] train_loss: 0.037\n",
      "[19,   200] train_loss: 0.035\n",
      "[20,   200] train_loss: 0.032\n",
      "Finished Training\n"
     ]
    }
   ],
   "source": [
    "clf.fit(train_loader, n_epochs=20)\n"
   ]
  },
  {
   "cell_type": "code",
   "execution_count": 19,
   "metadata": {},
   "outputs": [
    {
     "data": {
      "text/plain": [
       "0.955"
      ]
     },
     "execution_count": 19,
     "metadata": {},
     "output_type": "execute_result"
    }
   ],
   "source": [
    "clf.score(test_loader)"
   ]
  },
  {
   "cell_type": "code",
   "execution_count": 28,
   "metadata": {},
   "outputs": [
    {
     "name": "stderr",
     "output_type": "stream",
     "text": [
      "Clipping input data to the valid range for imshow with RGB data ([0..1] for floats or [0..255] for integers).\n"
     ]
    },
    {
     "name": "stdout",
     "output_type": "stream",
     "text": [
      "tensor([[0.0006]], grad_fn=<SigmoidBackward0>)\n"
     ]
    },
    {
     "data": {
      "image/png": "[encoded data removed]",
      "text/plain": [
       "<Figure size 640x480 with 1 Axes>"
      ]
     },
     "metadata": {},
     "output_type": "display_data"
    }
   ],
   "source": [
    "image = test_dataset[30]\n",
    "\n",
    "# ploting the image\n",
    "\n",
    "plt.imshow(np.transpose(image[0]))\n",
    "\n",
    "# prediction of the model\n",
    "\n",
    "print(clf.model(image[0].unsqueeze(0)))"
   ]
  }
 ],
 "metadata": {
  "kernelspec": {
   "display_name": "DLMI",
   "language": "python",
   "name": "python3"
  },
  "language_info": {
   "codemirror_mode": {
    "name": "ipython",
    "version": 3
   },
   "file_extension": ".py",
   "mimetype": "text/x-python",
   "name": "python",
   "nbconvert_exporter": "python",
   "pygments_lexer": "ipython3",
   "version": "3.12.2"
  }
 },
 "nbformat": 4,
 "nbformat_minor": 2
}
